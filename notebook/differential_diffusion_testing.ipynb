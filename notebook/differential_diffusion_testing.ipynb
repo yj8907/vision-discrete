{
 "cells": [
  {
   "cell_type": "code",
   "execution_count": 14,
   "id": "1b73f78e",
   "metadata": {},
   "outputs": [],
   "source": [
    "import torch.nn as nn\n",
    "import torch\n",
    "\n",
    "from torchvision.models import vit_b_16\n",
    "\n",
    "from denoising_diffusion_pytorch import Unet, GaussianDiffusion\n",
    "from torch.utils.data import DataLoader\n",
    "\n",
    "from torchvision import datasets\n",
    "from torchvision.transforms import ToTensor"
   ]
  },
  {
   "cell_type": "code",
   "execution_count": 7,
   "id": "a2c18dbb",
   "metadata": {},
   "outputs": [],
   "source": [
    "import os, sys\n",
    "current = os.getcwd()\n",
    "parent = os.path.dirname(current)\n",
    "sys.path.append(parent)"
   ]
  },
  {
   "cell_type": "code",
   "execution_count": 20,
   "id": "297b9e8e",
   "metadata": {},
   "outputs": [],
   "source": [
    "download = False\n",
    "\n",
    "# Download training data from open datasets.\n",
    "training_data = datasets.MovingMNIST(\n",
    "    root=\"data\",\n",
    "    split='train',\n",
    "    download=download,\n",
    "#     transform=ToTensor(),\n",
    ")\n",
    "\n",
    "# Download test data from open datasets.\n",
    "test_data = datasets.MovingMNIST(\n",
    "    root=\"data\",\n",
    "    split='test',\n",
    "    download=download,\n",
    "#     transform=ToTensor(),\n",
    ")"
   ]
  },
  {
   "cell_type": "code",
   "execution_count": 33,
   "id": "80dba19a",
   "metadata": {},
   "outputs": [],
   "source": [
    "def compute_frame_diff(image_batch):\n",
    "    \n",
    "    frame_diff = image_batch[:, 1:, :, :, :] - image_batch[:, :-1, :, :, :]\n",
    "    \n",
    "    return frame_diff"
   ]
  },
  {
   "cell_type": "code",
   "execution_count": 34,
   "id": "c1c094b7",
   "metadata": {},
   "outputs": [],
   "source": [
    "image_diff = compute_frame_diff(X)"
   ]
  },
  {
   "cell_type": "code",
   "execution_count": 52,
   "id": "ddf43565",
   "metadata": {},
   "outputs": [
    {
     "data": {
      "text/plain": [
       "<module 'utils' from '/Users/yangjiang/Documents/workspace/src/vision_discrete/utils.py'>"
      ]
     },
     "execution_count": 52,
     "metadata": {},
     "output_type": "execute_result"
    }
   ],
   "source": [
    "import importlib, utils\n",
    "importlib.reload(utils)"
   ]
  },
  {
   "cell_type": "code",
   "execution_count": 66,
   "id": "cf4eb082",
   "metadata": {},
   "outputs": [],
   "source": [
    "\n",
    "model = Unet(\n",
    "    dim = 16,\n",
    "    dim_mults = (1, 2, 4, 8),\n",
    "    flash_attn = True,\n",
    "    self_condition = True,\n",
    "    channels = 1\n",
    ")\n",
    "\n",
    "diffusion = utils.GaussianDiffusionDiff(\n",
    "    model,\n",
    "    image_size = 64,\n",
    "    timesteps = 100,    # number of steps,\n",
    "    objective = 'pred_noise',\n",
    "    beta_schedule = 'linear'\n",
    ")\n"
   ]
  },
  {
   "cell_type": "code",
   "execution_count": 67,
   "id": "4fc0a754",
   "metadata": {
    "scrolled": true
   },
   "outputs": [],
   "source": [
    "batch_size = 16\n",
    "\n",
    "# Create data loaders.\n",
    "train_dataloader = DataLoader(training_data, batch_size=batch_size)\n",
    "test_dataloader = DataLoader(test_data, batch_size=batch_size)\n",
    "\n",
    "for frames in train_dataloader:\n",
    "\n",
    "    frames = frames.to(torch.float32)\n",
    "    \n",
    "    image_diff = compute_frame_diff(frames)\n",
    "    prev_images = frames[:, :-1, :, :, :]\n",
    "\n",
    "    w, h = image_diff.shape[-2], image_diff.shape[-1]\n",
    "    \n",
    "    image_diff = torch.reshape(image_diff, (-1, 1, w, h))\n",
    "    prev_images = torch.reshape(prev_images, (-1, 1, w, h))\n",
    "    \n",
    "    b = image_diff.shape[0]\n",
    "    rand_idx = torch.randperm(b)\n",
    "    image_diff = image_diff[rand_idx]\n",
    "    prev_images = prev_images[rand_idx]\n",
    "        \n",
    "    loss = diffusion(image_diff, prev_images)\n",
    "    loss.backward()\n",
    "    \n",
    "    break"
   ]
  },
  {
   "cell_type": "code",
   "execution_count": 69,
   "id": "b7aa5bec",
   "metadata": {},
   "outputs": [
    {
     "data": {
      "text/plain": [
       "tensor(56.1683, grad_fn=<MeanBackward0>)"
      ]
     },
     "execution_count": 69,
     "metadata": {},
     "output_type": "execute_result"
    }
   ],
   "source": [
    "loss"
   ]
  },
  {
   "cell_type": "code",
   "execution_count": null,
   "id": "51f6f54d",
   "metadata": {},
   "outputs": [],
   "source": [
    "torch.save(model.state_dict(), PATH)"
   ]
  },
  {
   "cell_type": "code",
   "execution_count": 37,
   "id": "7bb73721",
   "metadata": {
    "scrolled": true
   },
   "outputs": [
    {
     "data": {
      "image/png": "[encoded data removed]",
      "text/plain": [
       "<Figure size 640x480 with 1 Axes>"
      ]
     },
     "metadata": {},
     "output_type": "display_data"
    }
   ],
   "source": [
    "from matplotlib import pyplot as plt\n",
    "plt.imshow(image_diff[0][2][0], interpolation='nearest')\n",
    "plt.show()"
   ]
  },
  {
   "cell_type": "code",
   "execution_count": 29,
   "id": "03651374",
   "metadata": {},
   "outputs": [
    {
     "data": {
      "text/plain": [
       "torch.Size([64, 64])"
      ]
     },
     "execution_count": 29,
     "metadata": {},
     "output_type": "execute_result"
    }
   ],
   "source": [
    "X[0][0][0].shape\n"
   ]
  },
  {
   "cell_type": "code",
   "execution_count": null,
   "id": "6082941e",
   "metadata": {},
   "outputs": [],
   "source": []
  }
 ],
 "metadata": {
  "kernelspec": {
   "display_name": "Python 3 (ipykernel)",
   "language": "python",
   "name": "python3"
  },
  "language_info": {
   "codemirror_mode": {
    "name": "ipython",
    "version": 3
   },
   "file_extension": ".py",
   "mimetype": "text/x-python",
   "name": "python",
   "nbconvert_exporter": "python",
   "pygments_lexer": "ipython3",
   "version": "3.11.9"
  }
 },
 "nbformat": 4,
 "nbformat_minor": 5
}
